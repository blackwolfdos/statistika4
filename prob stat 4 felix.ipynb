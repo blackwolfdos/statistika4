{
 "cells": [
  {
   "cell_type": "code",
   "execution_count": 1,
   "id": "d8bf1830",
   "metadata": {},
   "outputs": [
    {
     "name": "stdout",
     "output_type": "stream",
     "text": [
      "Probabilitas P(X=k) untuk distribusi binomial: 0.1171875\n"
     ]
    }
   ],
   "source": [
    "import math\n",
    "\n",
    "def n_choose_k(n, k):\n",
    "    return math.factorial(n) / (math.factorial(k) * math.factorial(n - k))\n",
    "\n",
    "def binomial_probability(n, k, p):\n",
    "    return n_choose_k(n, k) * (p ** k) * ((1 - p) ** (n - k))\n",
    "\n",
    "n = 10 \n",
    "p = 0.5 \n",
    "k = 3  \n",
    "\n",
    "prob_binomial = binomial_probability(n, k, p)\n",
    "print(\"Probabilitas P(X=k) untuk distribusi binomial:\", prob_binomial)"
   ]
  },
  {
   "cell_type": "code",
   "execution_count": 2,
   "id": "1bd57888",
   "metadata": {},
   "outputs": [
    {
     "name": "stdout",
     "output_type": "stream",
     "text": [
      "Probabilitas P(X=k) untuk distribusi binomial:  0.1171875\n"
     ]
    }
   ],
   "source": [
    "from scipy.stats import binom\n",
    "\n",
    "n = 10\n",
    "p = 0.5\n",
    "k = 3\n",
    "\n",
    "prob_binomial = binom.pmf(k, n, p)\n",
    "print('Probabilitas P(X=k) untuk distribusi binomial: ', prob_binomial)"
   ]
  },
  {
   "cell_type": "code",
   "execution_count": 3,
   "id": "1a3b7496",
   "metadata": {},
   "outputs": [
    {
     "name": "stdout",
     "output_type": "stream",
     "text": [
      "Probabilitas P(X=k) untuk distribusi Poisson: 0.22404180765538775\n"
     ]
    }
   ],
   "source": [
    "import math\n",
    "\n",
    "def poisson_probability(lambd, k):\n",
    "    return (lambd ** k) * math.exp(-lambd) / math.factorial(k)\n",
    "\n",
    "lambd = 3 \n",
    "k = 2  \n",
    "\n",
    "prob_poisson = poisson_probability(lambd, k)\n",
    "print(\"Probabilitas P(X=k) untuk distribusi Poisson:\", prob_poisson)"
   ]
  },
  {
   "cell_type": "code",
   "execution_count": 5,
   "id": "3ca326db",
   "metadata": {},
   "outputs": [
    {
     "name": "stdout",
     "output_type": "stream",
     "text": [
      "probabilitas P(X=k) untuk distribusi poisson: 0.22404180765538775\n"
     ]
    }
   ],
   "source": [
    "from scipy.stats import poisson\n",
    "\n",
    "lambd = 3\n",
    "k = 2\n",
    "\n",
    "prob_poisson = poisson.pmf(k, lambd)\n",
    "print(\"probabilitas P(X=k) untuk distribusi poisson:\", prob_poisson)"
   ]
  },
  {
   "cell_type": "code",
   "execution_count": 9,
   "id": "6d30b905",
   "metadata": {},
   "outputs": [
    {
     "name": "stdout",
     "output_type": "stream",
     "text": [
      "0.1285054390988551\n"
     ]
    }
   ],
   "source": [
    "from scipy import stats\n",
    "x = stats.binom(15, 0.1)\n",
    "print(x.pmf(3))"
   ]
  },
  {
   "cell_type": "code",
   "execution_count": 10,
   "id": "fc81bada",
   "metadata": {},
   "outputs": [
    {
     "name": "stdout",
     "output_type": "stream",
     "text": [
      "0.8159389308936089\n"
     ]
    }
   ],
   "source": [
    "print(x.cdf(2))"
   ]
  },
  {
   "cell_type": "code",
   "execution_count": 11,
   "id": "1bfed5bf",
   "metadata": {},
   "outputs": [
    {
     "name": "stdout",
     "output_type": "stream",
     "text": [
      "0.002216045197080002\n"
     ]
    }
   ],
   "source": [
    "print(x.pmf(6) + x.pmf(7))"
   ]
  },
  {
   "cell_type": "code",
   "execution_count": 12,
   "id": "64dd20b1",
   "metadata": {},
   "outputs": [
    {
     "name": "stdout",
     "output_type": "stream",
     "text": [
      "0.17546736976785063\n"
     ]
    }
   ],
   "source": [
    "from scipy import stats\n",
    "y = stats.poisson(5)\n",
    "print(y.pmf(4))"
   ]
  },
  {
   "cell_type": "code",
   "execution_count": 13,
   "id": "6fd2d5d5",
   "metadata": {},
   "outputs": [
    {
     "name": "stdout",
     "output_type": "stream",
     "text": [
      "0.17886305056987967\n"
     ]
    }
   ],
   "source": [
    "from scipy import stats\n",
    "\n",
    "X = stats.binom(20, 0.7)\n",
    "\n",
    "pmf_15 = X.pmf(15)\n",
    "\n",
    "print(pmf_15)"
   ]
  },
  {
   "cell_type": "code",
   "execution_count": 15,
   "id": "587e7107",
   "metadata": {},
   "outputs": [
    {
     "name": "stdout",
     "output_type": "stream",
     "text": [
      "0.18044704431548356\n"
     ]
    }
   ],
   "source": [
    "Y = stats.poisson(2)\n",
    "\n",
    "print(Y.pmf(3))"
   ]
  },
  {
   "cell_type": "code",
   "execution_count": null,
   "id": "18678068",
   "metadata": {},
   "outputs": [],
   "source": []
  }
 ],
 "metadata": {
  "kernelspec": {
   "display_name": "Python 3 (ipykernel)",
   "language": "python",
   "name": "python3"
  },
  "language_info": {
   "codemirror_mode": {
    "name": "ipython",
    "version": 3
   },
   "file_extension": ".py",
   "mimetype": "text/x-python",
   "name": "python",
   "nbconvert_exporter": "python",
   "pygments_lexer": "ipython3",
   "version": "3.11.4"
  }
 },
 "nbformat": 4,
 "nbformat_minor": 5
}
